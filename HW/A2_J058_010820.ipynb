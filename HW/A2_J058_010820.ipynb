{
  "nbformat": 4,
  "nbformat_minor": 0,
  "metadata": {
    "colab": {
      "name": "A2_J058_010820.ipynb",
      "provenance": [],
      "collapsed_sections": [],
      "authorship_tag": "ABX9TyMEEajPIoZrRvQEOcp/3Vr5",
      "include_colab_link": true
    },
    "kernelspec": {
      "name": "python3",
      "display_name": "Python 3"
    }
  },
  "cells": [
    {
      "cell_type": "markdown",
      "metadata": {
        "id": "view-in-github",
        "colab_type": "text"
      },
      "source": [
        "<a href=\"https://colab.research.google.com/github/Nihal-18/AI/blob/master/HW/A2_J058_010820.ipynb\" target=\"_parent\"><img src=\"https://colab.research.google.com/assets/colab-badge.svg\" alt=\"Open In Colab\"/></a>"
      ]
    },
    {
      "cell_type": "markdown",
      "metadata": {
        "id": "yGMA96TBgULT",
        "colab_type": "text"
      },
      "source": [
        "Name : Nihal M Todankar\n",
        "\n",
        "Roll No : J058\n",
        "\n",
        "Assignment No : 2"
      ]
    },
    {
      "cell_type": "markdown",
      "metadata": {
        "id": "iksxJl5lgdlp",
        "colab_type": "text"
      },
      "source": [
        "            DYNAMIC PROGRAMMING"
      ]
    },
    {
      "cell_type": "markdown",
      "metadata": {
        "id": "WuXbzxkJfS8v",
        "colab_type": "text"
      },
      "source": [
        "# Q1\n",
        "\n",
        "---\n",
        "https://www.hackerrank.com/rest/contests/master/challenges/validating-postalcode/hackers/todankar_nihal/download_solution\n"
      ]
    },
    {
      "cell_type": "code",
      "metadata": {
        "id": "TCeCBps3fSKw",
        "colab_type": "code",
        "colab": {}
      },
      "source": [
        "regex_integer_in_range = r\"^[1-9]\\d{5}$\"\t# Do not delete 'r'.\n",
        "regex_alternating_repetitive_digit_pair = r\"(.)(?=.\\1)\"\t# Do not delete 'r'.\n",
        "\n"
      ],
      "execution_count": null,
      "outputs": []
    },
    {
      "cell_type": "markdown",
      "metadata": {
        "id": "TqQXilLPznpn",
        "colab_type": "text"
      },
      "source": [
        "# Q2\n",
        "\n",
        "---\n",
        "Coin change system\n",
        "\n",
        "---\n",
        "https://www.hackerrank.com/rest/contests/master/challenges/coin-change/hackers/todankar_nihal/download_solution\n"
      ]
    },
    {
      "cell_type": "code",
      "metadata": {
        "id": "XCUj6W1xXyvc",
        "colab_type": "code",
        "colab": {}
      },
      "source": [
        "#!/bin/python3\n",
        "\n",
        "import math\n",
        "import os\n",
        "import random\n",
        "import re\n",
        "import sys\n",
        "\n",
        "#\n",
        "# Complete the 'getWays' function below.\n",
        "#\n",
        "# The function is expected to return a LONG_INTEGER.\n",
        "# The function accepts following parameters:\n",
        "#  1. INTEGER n\n",
        "#  2. LONG_INTEGER_ARRAY c\n",
        "#\n",
        "\n",
        "def getWays(n, c):\n",
        "    # Write your code here\n",
        "    m = len(c)\n",
        "    top = [0 for k in range(n+1)]\n",
        "    top[0] = 1\n",
        "    for i in range(0,m):\n",
        "        for j in range(c[i],n+1):\n",
        "            top[j] += top[j-c[i]]\n",
        "    return top[n]\n",
        "\n",
        "if __name__ == '__main__':\n",
        "    fptr = open(os.environ['OUTPUT_PATH'], 'w')\n",
        "\n",
        "    first_multiple_input = input().rstrip().split()\n",
        "\n",
        "    n = int(first_multiple_input[0])\n",
        "\n",
        "    m = int(first_multiple_input[1])\n",
        "\n",
        "    c = list(map(int, input().rstrip().split()))\n",
        "\n",
        "    # Print the number of ways of making change for 'n' units using coins having the values given by 'c'\n",
        "\n",
        "    ways = getWays(n, c)\n",
        "\n",
        "    fptr.write(str(ways) + '\\n')\n",
        "\n",
        "    fptr.close()"
      ],
      "execution_count": null,
      "outputs": []
    },
    {
      "cell_type": "markdown",
      "metadata": {
        "id": "QXNXTg5llRdm",
        "colab_type": "text"
      },
      "source": [
        "# Q-3) Sherlock and Cost\n",
        "\n",
        "---\n",
        "https://www.hackerrank.com/rest/contests/master/challenges/sherlock-and-cost/hackers/todankar_nihal/download_solution\n"
      ]
    },
    {
      "cell_type": "code",
      "metadata": {
        "id": "reWW_wNOlUJX",
        "colab_type": "code",
        "colab": {}
      },
      "source": [
        "import math\n",
        "import os\n",
        "import random\n",
        "import re\n",
        "import sys\n",
        "\n",
        "# Complete the cost function below.\n",
        "def cost(B):\n",
        "    length = len(B)\n",
        "    A = matrix = [[0 for i in range(2)] for i in range(length) ]\n",
        "    i = 1\n",
        "    while(i<len(B)):\n",
        "        A[i][0] = max(A[i-1][0], A[i-1][1] + B[i-1] - 1 )\n",
        "        A[i][1] = max(A[i-1][0] + B[i] - 1, A[i-1][1] + abs(B[i] - B[i-1]) )\n",
        "        i += 1\n",
        "    return ( max ( A[length-1][0], A[length-1][1] ) )\n",
        "if __name__ == '__main__':\n",
        "    fptr = open(os.environ['OUTPUT_PATH'], 'w')\n",
        "\n",
        "    t = int(input())\n",
        "\n",
        "    for t_itr in range(t):\n",
        "        n = int(input())\n",
        "\n",
        "        B = list(map(int, input().rstrip().split()))\n",
        "\n",
        "        result = cost(B)\n",
        "\n",
        "        fptr.write(str(result) + '\\n')\n",
        "\n",
        "    fptr.close()"
      ],
      "execution_count": null,
      "outputs": []
    }
  ]
}