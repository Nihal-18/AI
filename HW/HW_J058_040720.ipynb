{
  "nbformat": 4,
  "nbformat_minor": 0,
  "metadata": {
    "colab": {
      "name": "HW_J058_040720.ipynb",
      "provenance": [],
      "collapsed_sections": [],
      "authorship_tag": "ABX9TyMGB9CkHa5CoXbYd3A8lDwX",
      "include_colab_link": true
    },
    "kernelspec": {
      "name": "python3",
      "display_name": "Python 3"
    }
  },
  "cells": [
    {
      "cell_type": "markdown",
      "metadata": {
        "id": "view-in-github",
        "colab_type": "text"
      },
      "source": [
        "<a href=\"https://colab.research.google.com/github/Nihal-18/AI/blob/master/HW/HW_J058_040720.ipynb\" target=\"_parent\"><img src=\"https://colab.research.google.com/assets/colab-badge.svg\" alt=\"Open In Colab\"/></a>"
      ]
    },
    {
      "cell_type": "markdown",
      "metadata": {
        "id": "goHM0FpwPjLI",
        "colab_type": "text"
      },
      "source": [
        "  Q - 1"
      ]
    },
    {
      "cell_type": "code",
      "metadata": {
        "id": "Fym34A3yPoGO",
        "colab_type": "code",
        "colab": {
          "base_uri": "https://localhost:8080/",
          "height": 71
        },
        "outputId": "5980b0c7-9ba9-46c6-f5fa-1d2aa822b98b"
      },
      "source": [
        "n = int(input())\n",
        "\n",
        "if (n>=1 and n<=100): \n",
        "\n",
        "    if (n%2 != 0):\n",
        "        print('Weird')\n",
        "    else:\n",
        "        if (n>2 and n<=5):\n",
        "            print('Not Weird')\n",
        "        elif n>6 and n<=20:\n",
        "            print('Weird')\n",
        "        else:\n",
        "            print('Not Weird')\n",
        "\n"
      ],
      "execution_count": 9,
      "outputs": [
        {
          "output_type": "stream",
          "text": [
            "24\n",
            "Not Weird\n"
          ],
          "name": "stdout"
        }
      ]
    },
    {
      "cell_type": "markdown",
      "metadata": {
        "id": "aBawQq6vawb5",
        "colab_type": "text"
      },
      "source": [
        "Q - 2"
      ]
    },
    {
      "cell_type": "code",
      "metadata": {
        "id": "lyVMwPvxazI_",
        "colab_type": "code",
        "colab": {
          "base_uri": "https://localhost:8080/",
          "height": 120
        },
        "outputId": "ac9a694c-71e1-4adf-abfb-597348bfa6d9"
      },
      "source": [
        "a = int(input())\n",
        "b = int(input())\n",
        "\n",
        "if (a>=1 and a<=10**10) and  (b>=1 and b<=10**10):\n",
        "\n",
        "    print(a+b)\n",
        "    print(a-b)\n",
        "    print(a*b)"
      ],
      "execution_count": 12,
      "outputs": [
        {
          "output_type": "stream",
          "text": [
            "3\n",
            "4\n",
            "7\n",
            "-1\n",
            "12\n"
          ],
          "name": "stdout"
        }
      ]
    },
    {
      "cell_type": "markdown",
      "metadata": {
        "id": "0CwedOA6PsrI",
        "colab_type": "text"
      },
      "source": [
        "Q - 3"
      ]
    },
    {
      "cell_type": "code",
      "metadata": {
        "id": "4F25gkMcPp1C",
        "colab_type": "code",
        "colab": {
          "base_uri": "https://localhost:8080/",
          "height": 104
        },
        "outputId": "e868056e-e347-4020-ebb1-237f78dcd914"
      },
      "source": [
        "a = int(input())\n",
        "b = int(input())\n",
        "print(a//b)\n",
        "print(a/b)"
      ],
      "execution_count": 10,
      "outputs": [
        {
          "output_type": "stream",
          "text": [
            "4\n",
            "7\n",
            "0\n",
            "0.5714285714285714\n"
          ],
          "name": "stdout"
        }
      ]
    },
    {
      "cell_type": "markdown",
      "metadata": {
        "id": "fzfF3yCuVvbz",
        "colab_type": "text"
      },
      "source": [
        "Q - 4"
      ]
    },
    {
      "cell_type": "code",
      "metadata": {
        "id": "t7rH8Kk4VslI",
        "colab_type": "code",
        "colab": {
          "base_uri": "https://localhost:8080/",
          "height": 104
        },
        "outputId": "bee1cef2-9040-4929-e81f-d98e2e4eef5b"
      },
      "source": [
        "N = int(input())\n",
        "\n",
        "if ( N >=1 and N<=20):\n",
        "\n",
        "    for i in range(0,N):\n",
        "\n",
        "        print(i*i)"
      ],
      "execution_count": 11,
      "outputs": [
        {
          "output_type": "stream",
          "text": [
            "3\n",
            "0\n",
            "1\n",
            "4\n"
          ],
          "name": "stdout"
        }
      ]
    },
    {
      "cell_type": "markdown",
      "metadata": {
        "id": "yduXznR1XcJa",
        "colab_type": "text"
      },
      "source": [
        "Q - 5"
      ]
    },
    {
      "cell_type": "code",
      "metadata": {
        "id": "esSOINK9XWki",
        "colab_type": "code",
        "colab": {
          "base_uri": "https://localhost:8080/",
          "height": 71
        },
        "outputId": "1b104306-8e8a-444a-880a-4211a827e39b"
      },
      "source": [
        "N = int(input())\n",
        "a = 0\n",
        "for i in range(1,N+1):\n",
        "    print(i,end=\"\")"
      ],
      "execution_count": 15,
      "outputs": [
        {
          "output_type": "stream",
          "text": [
            "133\n",
            "123456789101112131415161718192021222324252627282930313233343536373839404142434445464748495051525354555657585960616263646566676869707172737475767778798081828384858687888990919293949596979899100101102103104105106107108109110111112113114115116117118119120121122123124125126127128129130131132133"
          ],
          "name": "stdout"
        }
      ]
    },
    {
      "cell_type": "markdown",
      "metadata": {
        "id": "_Tx9sN9xff-K",
        "colab_type": "text"
      },
      "source": [
        "Q - 6"
      ]
    },
    {
      "cell_type": "code",
      "metadata": {
        "id": "dt0VqZrkdYWD",
        "colab_type": "code",
        "colab": {
          "base_uri": "https://localhost:8080/",
          "height": 120
        },
        "outputId": "c2bfdbe7-826b-4aea-9f8e-6bd33b81b04c"
      },
      "source": [
        "x = int(input())\n",
        "y = int(input())\n",
        "z = int(input())\n",
        "n = int(input())\n",
        "\n",
        "\n",
        "loc = [[i,j,k]for i in range(x+1) for j in range(y+1) for k in range(z+1) if((i+j+k) != n)]\n",
        "\n",
        "print(loc)"
      ],
      "execution_count": 19,
      "outputs": [
        {
          "output_type": "stream",
          "text": [
            "1\n",
            "1\n",
            "1\n",
            "2\n",
            "[[0, 0, 0], [0, 0, 1], [0, 1, 0], [1, 0, 0], [1, 1, 1]]\n"
          ],
          "name": "stdout"
        }
      ]
    },
    {
      "cell_type": "code",
      "metadata": {
        "id": "kt9YYTAMlpvt",
        "colab_type": "code",
        "colab": {}
      },
      "source": [
        ""
      ],
      "execution_count": null,
      "outputs": []
    }
  ]
}