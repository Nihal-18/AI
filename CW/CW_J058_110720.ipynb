{
  "nbformat": 4,
  "nbformat_minor": 0,
  "metadata": {
    "colab": {
      "name": "CW_J058_110720.ipynb",
      "provenance": [],
      "collapsed_sections": [],
      "authorship_tag": "ABX9TyPbwx0c635nsKk0i5/Jvk+X",
      "include_colab_link": true
    },
    "kernelspec": {
      "name": "python3",
      "display_name": "Python 3"
    }
  },
  "cells": [
    {
      "cell_type": "markdown",
      "metadata": {
        "id": "view-in-github",
        "colab_type": "text"
      },
      "source": [
        "<a href=\"https://colab.research.google.com/github/Nihal-18/AI/blob/master/CW/CW_J058_110720.ipynb\" target=\"_parent\"><img src=\"https://colab.research.google.com/assets/colab-badge.svg\" alt=\"Open In Colab\"/></a>"
      ]
    },
    {
      "cell_type": "code",
      "metadata": {
        "id": "hCVlY2YRxaKF",
        "colab_type": "code",
        "colab": {}
      },
      "source": [
        "import numpy as np\n",
        "import pandas as pd\n",
        "import matplotlib.pyplot as plt"
      ],
      "execution_count": 1,
      "outputs": []
    },
    {
      "cell_type": "code",
      "metadata": {
        "id": "yakN9veuzZ_n",
        "colab_type": "code",
        "colab": {}
      },
      "source": [
        "a = 5\n",
        "a = 'five'"
      ],
      "execution_count": 2,
      "outputs": []
    },
    {
      "cell_type": "code",
      "metadata": {
        "id": "-lVJCgwmzePz",
        "colab_type": "code",
        "colab": {
          "base_uri": "https://localhost:8080/",
          "height": 35
        },
        "outputId": "828eb450-6503-4f82-d65e-167087fec276"
      },
      "source": [
        "print(a)"
      ],
      "execution_count": 3,
      "outputs": [
        {
          "output_type": "stream",
          "text": [
            "five\n"
          ],
          "name": "stdout"
        }
      ]
    },
    {
      "cell_type": "code",
      "metadata": {
        "id": "PjBcE4iTzf4f",
        "colab_type": "code",
        "colab": {
          "base_uri": "https://localhost:8080/",
          "height": 132
        },
        "outputId": "35033569-0493-4514-a75b-c219bc7b3096"
      },
      "source": [
        "print 5"
      ],
      "execution_count": 4,
      "outputs": [
        {
          "output_type": "error",
          "ename": "SyntaxError",
          "evalue": "ignored",
          "traceback": [
            "\u001b[0;36m  File \u001b[0;32m\"<ipython-input-4-a3307230eaf8>\"\u001b[0;36m, line \u001b[0;32m1\u001b[0m\n\u001b[0;31m    print 5\u001b[0m\n\u001b[0m          ^\u001b[0m\n\u001b[0;31mSyntaxError\u001b[0m\u001b[0;31m:\u001b[0m Missing parentheses in call to 'print'. Did you mean print(5)?\n"
          ]
        }
      ]
    },
    {
      "cell_type": "code",
      "metadata": {
        "id": "QCYtu66-0Hg8",
        "colab_type": "code",
        "colab": {
          "base_uri": "https://localhost:8080/",
          "height": 35
        },
        "outputId": "d879c9ae-146b-42a8-8f55-ca3ff53655f8"
      },
      "source": [
        "print(5)"
      ],
      "execution_count": 5,
      "outputs": [
        {
          "output_type": "stream",
          "text": [
            "5\n"
          ],
          "name": "stdout"
        }
      ]
    },
    {
      "cell_type": "code",
      "metadata": {
        "id": "D-C3cSA_1MKY",
        "colab_type": "code",
        "colab": {}
      },
      "source": [
        "  a=4\n",
        "b=6\n",
        "c=8"
      ],
      "execution_count": 22,
      "outputs": []
    },
    {
      "cell_type": "code",
      "metadata": {
        "id": "OZJV7cGP1kVm",
        "colab_type": "code",
        "colab": {
          "base_uri": "https://localhost:8080/",
          "height": 35
        },
        "outputId": "c827bb26-1dfc-4ba3-b4d4-ca67266e2c89"
      },
      "source": [
        "b"
      ],
      "execution_count": 7,
      "outputs": [
        {
          "output_type": "execute_result",
          "data": {
            "text/plain": [
              "6"
            ]
          },
          "metadata": {
            "tags": []
          },
          "execution_count": 7
        }
      ]
    },
    {
      "cell_type": "code",
      "metadata": {
        "id": "3CXp7L7D1rXS",
        "colab_type": "code",
        "colab": {
          "base_uri": "https://localhost:8080/",
          "height": 35
        },
        "outputId": "a36ed090-d9f6-4a45-d974-80226ffbc028"
      },
      "source": [
        "a"
      ],
      "execution_count": 8,
      "outputs": [
        {
          "output_type": "execute_result",
          "data": {
            "text/plain": [
              "5"
            ]
          },
          "metadata": {
            "tags": []
          },
          "execution_count": 8
        }
      ]
    },
    {
      "cell_type": "code",
      "metadata": {
        "id": "BnplVfc31sBP",
        "colab_type": "code",
        "colab": {}
      },
      "source": [
        "if b<0:\n",
        "  print('a')"
      ],
      "execution_count": 12,
      "outputs": []
    },
    {
      "cell_type": "code",
      "metadata": {
        "id": "-8wzDnJo2TD3",
        "colab_type": "code",
        "colab": {}
      },
      "source": [
        "def printer():\n",
        "  a=5\n",
        "  b=6\n",
        "  print(a+b)\n",
        "\n",
        "def sum(a,b):\n",
        "  return a+b"
      ],
      "execution_count": 25,
      "outputs": []
    },
    {
      "cell_type": "code",
      "metadata": {
        "id": "1i548Ljc3SqA",
        "colab_type": "code",
        "colab": {
          "base_uri": "https://localhost:8080/",
          "height": 35
        },
        "outputId": "8638d637-9939-4200-e471-ccdee255fc67"
      },
      "source": [
        "printer()\n"
      ],
      "execution_count": 23,
      "outputs": [
        {
          "output_type": "stream",
          "text": [
            "10\n"
          ],
          "name": "stdout"
        }
      ]
    },
    {
      "cell_type": "code",
      "metadata": {
        "id": "RBb2tG7D41Mb",
        "colab_type": "code",
        "colab": {
          "base_uri": "https://localhost:8080/",
          "height": 35
        },
        "outputId": "522ba9d5-d8d7-470b-e6de-ae078b7496d7"
      },
      "source": [
        "sum(a,c)"
      ],
      "execution_count": 24,
      "outputs": [
        {
          "output_type": "execute_result",
          "data": {
            "text/plain": [
              "12"
            ]
          },
          "metadata": {
            "tags": []
          },
          "execution_count": 24
        }
      ]
    },
    {
      "cell_type": "code",
      "metadata": {
        "id": "0R_8nKOq43rL",
        "colab_type": "code",
        "colab": {}
      },
      "source": [
        "a=c"
      ],
      "execution_count": 26,
      "outputs": []
    },
    {
      "cell_type": "code",
      "metadata": {
        "id": "lCLsbgiB81Z5",
        "colab_type": "code",
        "colab": {
          "base_uri": "https://localhost:8080/",
          "height": 35
        },
        "outputId": "b0c0ebd2-2c79-444b-c0e3-0531aeceb618"
      },
      "source": [
        "a"
      ],
      "execution_count": 27,
      "outputs": [
        {
          "output_type": "execute_result",
          "data": {
            "text/plain": [
              "8"
            ]
          },
          "metadata": {
            "tags": []
          },
          "execution_count": 27
        }
      ]
    },
    {
      "cell_type": "code",
      "metadata": {
        "id": "OoDgjWhE81_Q",
        "colab_type": "code",
        "colab": {
          "base_uri": "https://localhost:8080/",
          "height": 35
        },
        "outputId": "124d1415-05cf-43c9-eb2b-e6588cb5666f"
      },
      "source": [
        "if a==c:\n",
        "  print(True)"
      ],
      "execution_count": 31,
      "outputs": [
        {
          "output_type": "stream",
          "text": [
            "True\n"
          ],
          "name": "stdout"
        }
      ]
    },
    {
      "cell_type": "code",
      "metadata": {
        "id": "I2CGqAq-83tr",
        "colab_type": "code",
        "colab": {
          "base_uri": "https://localhost:8080/",
          "height": 35
        },
        "outputId": "7b55d656-dc11-46f7-c30d-2079368cfd8f"
      },
      "source": [
        "int('10',2)"
      ],
      "execution_count": 33,
      "outputs": [
        {
          "output_type": "execute_result",
          "data": {
            "text/plain": [
              "2"
            ]
          },
          "metadata": {
            "tags": []
          },
          "execution_count": 33
        }
      ]
    },
    {
      "cell_type": "code",
      "metadata": {
        "id": "2OH_B_vz-S0_",
        "colab_type": "code",
        "colab": {
          "base_uri": "https://localhost:8080/",
          "height": 35
        },
        "outputId": "a6abb0eb-764f-4ef4-be2a-d4e60cd524d5"
      },
      "source": [
        "float(int('111',3))"
      ],
      "execution_count": 34,
      "outputs": [
        {
          "output_type": "execute_result",
          "data": {
            "text/plain": [
              "13.0"
            ]
          },
          "metadata": {
            "tags": []
          },
          "execution_count": 34
        }
      ]
    },
    {
      "cell_type": "code",
      "metadata": {
        "id": "BgFrndGa_d9l",
        "colab_type": "code",
        "colab": {
          "base_uri": "https://localhost:8080/",
          "height": 35
        },
        "outputId": "7bb8acc2-4b97-43df-e572-ac0dcc663c00"
      },
      "source": [
        "int('1A1212',11)"
      ],
      "execution_count": 38,
      "outputs": [
        {
          "output_type": "execute_result",
          "data": {
            "text/plain": [
              "309047"
            ]
          },
          "metadata": {
            "tags": []
          },
          "execution_count": 38
        }
      ]
    },
    {
      "cell_type": "code",
      "metadata": {
        "id": "rC2hfrZAAmGB",
        "colab_type": "code",
        "colab": {
          "base_uri": "https://localhost:8080/",
          "height": 35
        },
        "outputId": "225252ff-ed3a-4688-f7d7-7d092ee93b95"
      },
      "source": [
        "int('1B1212',12)"
      ],
      "execution_count": 39,
      "outputs": [
        {
          "output_type": "execute_result",
          "data": {
            "text/plain": [
              "478958"
            ]
          },
          "metadata": {
            "tags": []
          },
          "execution_count": 39
        }
      ]
    },
    {
      "cell_type": "code",
      "metadata": {
        "id": "jp2KflrfA_uv",
        "colab_type": "code",
        "colab": {
          "base_uri": "https://localhost:8080/",
          "height": 37
        },
        "outputId": "b91d290d-34bb-4781-87cb-272c01480108"
      },
      "source": [
        "str(float(int('1212',9)))"
      ],
      "execution_count": 41,
      "outputs": [
        {
          "output_type": "execute_result",
          "data": {
            "application/vnd.google.colaboratory.intrinsic": {
              "type": "string"
            },
            "text/plain": [
              "'902.0'"
            ]
          },
          "metadata": {
            "tags": []
          },
          "execution_count": 41
        }
      ]
    },
    {
      "cell_type": "code",
      "metadata": {
        "id": "40Pnrg8zBMQ8",
        "colab_type": "code",
        "colab": {}
      },
      "source": [
        "def sum():\n",
        "  a= 'skjd jsabbalsdflhs ghakbeb \\n j,dnke aehrf jkd '"
      ],
      "execution_count": 43,
      "outputs": []
    },
    {
      "cell_type": "code",
      "metadata": {
        "id": "f9Omu7S-Clus",
        "colab_type": "code",
        "colab": {}
      },
      "source": [
        "#help('traceback')"
      ],
      "execution_count": 46,
      "outputs": []
    },
    {
      "cell_type": "code",
      "metadata": {
        "id": "LZiyCp7wDkLD",
        "colab_type": "code",
        "colab": {}
      },
      "source": [
        "a_=4\n",
        "_a_=5\n",
        "a=6\n",
        "_a=9  # variable is intended for internal use (private variables)\n",
        "__a=12 # "
      ],
      "execution_count": 50,
      "outputs": []
    },
    {
      "cell_type": "code",
      "metadata": {
        "id": "9NpJmP9UGigU",
        "colab_type": "code",
        "colab": {}
      },
      "source": [
        "def make_a(a,class_):\n",
        "  pass"
      ],
      "execution_count": 49,
      "outputs": []
    },
    {
      "cell_type": "code",
      "metadata": {
        "id": "KyQ5IQt2IvG9",
        "colab_type": "code",
        "colab": {}
      },
      "source": [
        "# public variable vs private\n",
        "\n",
        "class human:\n",
        "  \"\"\"Members of a class\"\"\"\n",
        "  # attribute - variables - compulsory\n",
        "  # method / behaviour - function - compulsory\n",
        "  \n",
        "\n"
      ],
      "execution_count": null,
      "outputs": []
    },
    {
      "cell_type": "code",
      "metadata": {
        "id": "j20USnySNaj5",
        "colab_type": "code",
        "colab": {
          "base_uri": "https://localhost:8080/",
          "height": 70
        },
        "outputId": "651af8e2-4afe-4d98-d513-d7737fc1dcf0"
      },
      "source": [
        "class Student:\n",
        "  \n",
        "  def __init__(self,name):\n",
        "    self.__name = name\n",
        "    self.__a=6\n",
        "  def displayName(self):\n",
        "    print(self.__name)\n",
        "    print(self.__a)\n",
        "\n",
        "# Class vs object\n",
        "s1 = Student(\"Santosh\")\n",
        "s1.displayName()\n",
        "\n",
        "# raises an error\n",
        "print(s1._Student__name)"
      ],
      "execution_count": 66,
      "outputs": [
        {
          "output_type": "stream",
          "text": [
            "Santosh\n",
            "6\n",
            "Santosh\n"
          ],
          "name": "stdout"
        }
      ]
    },
    {
      "cell_type": "code",
      "metadata": {
        "id": "ByTiy7twP5l6",
        "colab_type": "code",
        "colab": {}
      },
      "source": [
        "#dir(s1)"
      ],
      "execution_count": 62,
      "outputs": []
    },
    {
      "cell_type": "code",
      "metadata": {
        "id": "ygk6iCCMQT7G",
        "colab_type": "code",
        "colab": {}
      },
      "source": [
        "class student1(Student):\n",
        "  def __init__(self):\n",
        "    print(self.a)\n",
        "    print(self.__name)"
      ],
      "execution_count": 63,
      "outputs": []
    },
    {
      "cell_type": "code",
      "metadata": {
        "id": "jNJWDpqmV_Zc",
        "colab_type": "code",
        "colab": {
          "base_uri": "https://localhost:8080/",
          "height": 168
        },
        "outputId": "c2972cbf-217b-4321-ad19-0006b1221553"
      },
      "source": [
        "s2=student1('Santosh1')"
      ],
      "execution_count": 65,
      "outputs": [
        {
          "output_type": "error",
          "ename": "TypeError",
          "evalue": "ignored",
          "traceback": [
            "\u001b[0;31m---------------------------------------------------------------------------\u001b[0m",
            "\u001b[0;31mTypeError\u001b[0m                                 Traceback (most recent call last)",
            "\u001b[0;32m<ipython-input-65-3aa6b7b9b3ee>\u001b[0m in \u001b[0;36m<module>\u001b[0;34m()\u001b[0m\n\u001b[0;32m----> 1\u001b[0;31m \u001b[0ms2\u001b[0m\u001b[0;34m=\u001b[0m\u001b[0mstudent1\u001b[0m\u001b[0;34m(\u001b[0m\u001b[0ms1\u001b[0m\u001b[0;34m)\u001b[0m\u001b[0;34m\u001b[0m\u001b[0;34m\u001b[0m\u001b[0m\n\u001b[0m",
            "\u001b[0;31mTypeError\u001b[0m: __init__() takes 1 positional argument but 2 were given"
          ]
        }
      ]
    },
    {
      "cell_type": "code",
      "metadata": {
        "id": "hdBEQEO7V6IU",
        "colab_type": "code",
        "colab": {
          "base_uri": "https://localhost:8080/",
          "height": 35
        },
        "outputId": "fc7a5b62-d6f3-44dc-fb2d-900e4725c00e"
      },
      "source": [
        "s1._Student__a"
      ],
      "execution_count": 64,
      "outputs": [
        {
          "output_type": "execute_result",
          "data": {
            "text/plain": [
              "6"
            ]
          },
          "metadata": {
            "tags": []
          },
          "execution_count": 64
        }
      ]
    },
    {
      "cell_type": "code",
      "metadata": {
        "id": "lgOkqyghV-IU",
        "colab_type": "code",
        "colab": {}
      },
      "source": [
        "import pandas as pd"
      ],
      "execution_count": 67,
      "outputs": []
    },
    {
      "cell_type": "code",
      "metadata": {
        "id": "L9R_7pVPbKTv",
        "colab_type": "code",
        "colab": {}
      },
      "source": [
        "a = pd.DataFrame()\n"
      ],
      "execution_count": 68,
      "outputs": []
    },
    {
      "cell_type": "code",
      "metadata": {
        "id": "3EwEHahvbOLk",
        "colab_type": "code",
        "colab": {}
      },
      "source": [
        "lis = ['a','b','c']\n",
        "a=pd.DataFrame(columns=lis)"
      ],
      "execution_count": 70,
      "outputs": []
    },
    {
      "cell_type": "code",
      "metadata": {
        "id": "4CARAq5TbRd1",
        "colab_type": "code",
        "colab": {}
      },
      "source": [
        "a=pd.read_csv(\"https://people.sc.fsu.edu/~jburkardt/data/csv/addresses.csv\")"
      ],
      "execution_count": 71,
      "outputs": []
    },
    {
      "cell_type": "code",
      "metadata": {
        "id": "bnF87i3kcXk5",
        "colab_type": "code",
        "colab": {
          "base_uri": "https://localhost:8080/",
          "height": 208
        },
        "outputId": "a4c05d0b-2223-4cc2-cf44-04684e36bb3b"
      },
      "source": [
        "a"
      ],
      "execution_count": 72,
      "outputs": [
        {
          "output_type": "execute_result",
          "data": {
            "text/html": [
              "<div>\n",
              "<style scoped>\n",
              "    .dataframe tbody tr th:only-of-type {\n",
              "        vertical-align: middle;\n",
              "    }\n",
              "\n",
              "    .dataframe tbody tr th {\n",
              "        vertical-align: top;\n",
              "    }\n",
              "\n",
              "    .dataframe thead th {\n",
              "        text-align: right;\n",
              "    }\n",
              "</style>\n",
              "<table border=\"1\" class=\"dataframe\">\n",
              "  <thead>\n",
              "    <tr style=\"text-align: right;\">\n",
              "      <th></th>\n",
              "      <th>John</th>\n",
              "      <th>Doe</th>\n",
              "      <th>120 jefferson st.</th>\n",
              "      <th>Riverside</th>\n",
              "      <th>NJ</th>\n",
              "      <th>08075</th>\n",
              "    </tr>\n",
              "  </thead>\n",
              "  <tbody>\n",
              "    <tr>\n",
              "      <th>0</th>\n",
              "      <td>Jack</td>\n",
              "      <td>McGinnis</td>\n",
              "      <td>220 hobo Av.</td>\n",
              "      <td>Phila</td>\n",
              "      <td>PA</td>\n",
              "      <td>9119</td>\n",
              "    </tr>\n",
              "    <tr>\n",
              "      <th>1</th>\n",
              "      <td>John \"Da Man\"</td>\n",
              "      <td>Repici</td>\n",
              "      <td>120 Jefferson St.</td>\n",
              "      <td>Riverside</td>\n",
              "      <td>NJ</td>\n",
              "      <td>8075</td>\n",
              "    </tr>\n",
              "    <tr>\n",
              "      <th>2</th>\n",
              "      <td>Stephen</td>\n",
              "      <td>Tyler</td>\n",
              "      <td>7452 Terrace \"At the Plaza\" road</td>\n",
              "      <td>SomeTown</td>\n",
              "      <td>SD</td>\n",
              "      <td>91234</td>\n",
              "    </tr>\n",
              "    <tr>\n",
              "      <th>3</th>\n",
              "      <td>NaN</td>\n",
              "      <td>Blankman</td>\n",
              "      <td>NaN</td>\n",
              "      <td>SomeTown</td>\n",
              "      <td>SD</td>\n",
              "      <td>298</td>\n",
              "    </tr>\n",
              "    <tr>\n",
              "      <th>4</th>\n",
              "      <td>Joan \"the bone\", Anne</td>\n",
              "      <td>Jet</td>\n",
              "      <td>9th, at Terrace plc</td>\n",
              "      <td>Desert City</td>\n",
              "      <td>CO</td>\n",
              "      <td>123</td>\n",
              "    </tr>\n",
              "  </tbody>\n",
              "</table>\n",
              "</div>"
            ],
            "text/plain": [
              "                    John       Doe  ...   NJ  08075\n",
              "0                   Jack  McGinnis  ...   PA   9119\n",
              "1          John \"Da Man\"    Repici  ...   NJ   8075\n",
              "2                Stephen     Tyler  ...   SD  91234\n",
              "3                    NaN  Blankman  ...   SD    298\n",
              "4  Joan \"the bone\", Anne       Jet  ...   CO    123\n",
              "\n",
              "[5 rows x 6 columns]"
            ]
          },
          "metadata": {
            "tags": []
          },
          "execution_count": 72
        }
      ]
    },
    {
      "cell_type": "code",
      "metadata": {
        "id": "7DTPEuJ9cazH",
        "colab_type": "code",
        "colab": {}
      },
      "source": [
        "# Create a custom class to read a csv and json file using pandas\n",
        "# Create a custom function within the class to select any 2 rows of the dataframe \n",
        "# Create a sub class DataRead2 that has a function for correlation plots (using any lib for correlation plot)\n",
        "# Within DataRead2 also create a function to override the custom function of DataRead1 Rowselect to select 3 rows"
      ],
      "execution_count": null,
      "outputs": []
    }
  ]
}