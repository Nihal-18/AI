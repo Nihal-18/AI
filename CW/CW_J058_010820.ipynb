{
  "nbformat": 4,
  "nbformat_minor": 0,
  "metadata": {
    "colab": {
      "name": "CW_J058_010820.ipynb",
      "provenance": [],
      "collapsed_sections": [],
      "authorship_tag": "ABX9TyPq6/qLOumpZhS3B1U46Yes",
      "include_colab_link": true
    },
    "kernelspec": {
      "name": "python3",
      "display_name": "Python 3"
    }
  },
  "cells": [
    {
      "cell_type": "markdown",
      "metadata": {
        "id": "view-in-github",
        "colab_type": "text"
      },
      "source": [
        "<a href=\"https://colab.research.google.com/github/Nihal-18/AI/blob/master/CW/CW_J058_010820.ipynb\" target=\"_parent\"><img src=\"https://colab.research.google.com/assets/colab-badge.svg\" alt=\"Open In Colab\"/></a>"
      ]
    },
    {
      "cell_type": "markdown",
      "metadata": {
        "id": "7HPyQiiL_PxG",
        "colab_type": "text"
      },
      "source": [
        "Name: Nihal M Todankar\n",
        "\n",
        "---\n",
        "\n",
        "Roll No: J058"
      ]
    },
    {
      "cell_type": "markdown",
      "metadata": {
        "id": "3tXRq0PdFMI7",
        "colab_type": "text"
      },
      "source": [
        "Calculating factorials"
      ]
    },
    {
      "cell_type": "code",
      "metadata": {
        "id": "BBeIRPLtFLah",
        "colab_type": "code",
        "colab": {}
      },
      "source": [
        "def fact_recursive(n):\n",
        "  fact=1\n",
        "  if n == 0:\n",
        "    return fact\n",
        "  else:\n",
        "    return n*fact_recursive(n-1)\n",
        "\n",
        "\n",
        "def fact_simple(n):\n",
        "  f=1\n",
        "  if n==0:\n",
        "    return f\n",
        "  else:\n",
        "    while n>0:\n",
        "      f=f*n\n",
        "      n-=1\n",
        "    return f"
      ],
      "execution_count": null,
      "outputs": []
    },
    {
      "cell_type": "code",
      "metadata": {
        "id": "dmqBr0LtFdIS",
        "colab_type": "code",
        "colab": {
          "base_uri": "https://localhost:8080/",
          "height": 35
        },
        "outputId": "37ee69e7-0560-463a-998b-358f53419227"
      },
      "source": [
        "fact_recursive(8)"
      ],
      "execution_count": null,
      "outputs": [
        {
          "output_type": "execute_result",
          "data": {
            "text/plain": [
              "40320"
            ]
          },
          "metadata": {
            "tags": []
          },
          "execution_count": 23
        }
      ]
    },
    {
      "cell_type": "code",
      "metadata": {
        "id": "pd6yq2zoFcyN",
        "colab_type": "code",
        "colab": {
          "base_uri": "https://localhost:8080/",
          "height": 35
        },
        "outputId": "bdee0dd6-857d-4d59-da07-d3feb3da621d"
      },
      "source": [
        "fact_simple(10)"
      ],
      "execution_count": null,
      "outputs": [
        {
          "output_type": "execute_result",
          "data": {
            "text/plain": [
              "3628800"
            ]
          },
          "metadata": {
            "tags": []
          },
          "execution_count": 24
        }
      ]
    },
    {
      "cell_type": "markdown",
      "metadata": {
        "id": "uE-dZhHkIH1L",
        "colab_type": "text"
      },
      "source": [
        "Fibonacci Numbers"
      ]
    },
    {
      "cell_type": "code",
      "metadata": {
        "id": "g4fCVwzuIG5j",
        "colab_type": "code",
        "colab": {}
      },
      "source": [
        "def fib(n):\n",
        "  f0 =0\n",
        "  f1 =1\n",
        "  if n==0:\n",
        "    return f0\n",
        "  else:\n",
        "    while n-2>0:\n",
        "      f = f1+f0\n",
        "      f0=f1\n",
        "      f1=f\n",
        "      n-=1\n",
        "    return f"
      ],
      "execution_count": 31,
      "outputs": []
    },
    {
      "cell_type": "code",
      "metadata": {
        "id": "zh5CyKIxIG0Y",
        "colab_type": "code",
        "colab": {
          "base_uri": "https://localhost:8080/",
          "height": 35
        },
        "outputId": "d9bdcab3-51ad-43e8-f729-864a5ca52833"
      },
      "source": [
        "fib(10)"
      ],
      "execution_count": 32,
      "outputs": [
        {
          "output_type": "execute_result",
          "data": {
            "text/plain": [
              "34"
            ]
          },
          "metadata": {
            "tags": []
          },
          "execution_count": 32
        }
      ]
    },
    {
      "cell_type": "markdown",
      "metadata": {
        "id": "a0wruPV0Obh8",
        "colab_type": "text"
      },
      "source": [
        "Fibonacci Using Recursive"
      ]
    },
    {
      "cell_type": "code",
      "metadata": {
        "id": "0Q01bGnTOgDE",
        "colab_type": "code",
        "colab": {}
      },
      "source": [
        "def fibo_recursive(n):\n",
        "  fibo=[]\n",
        "  fibo.append(0)\n",
        "  fibo.append(1)\n",
        "\n",
        "  for i in range(2,n+1):\n",
        "    fib = fibo[i-1] + fibo[i-2]\n",
        "    fibo.append(fib)\n",
        "\n",
        "  return fibo[n]\n"
      ],
      "execution_count": 40,
      "outputs": []
    },
    {
      "cell_type": "code",
      "metadata": {
        "id": "jGnmUqJnOf7h",
        "colab_type": "code",
        "colab": {
          "base_uri": "https://localhost:8080/",
          "height": 35
        },
        "outputId": "cd023032-b4f3-4d72-da1a-06c54956dec0"
      },
      "source": [
        "fibo_recursive(8)"
      ],
      "execution_count": 41,
      "outputs": [
        {
          "output_type": "execute_result",
          "data": {
            "text/plain": [
              "21"
            ]
          },
          "metadata": {
            "tags": []
          },
          "execution_count": 41
        }
      ]
    },
    {
      "cell_type": "code",
      "metadata": {
        "id": "kqIyj5-vOf2U",
        "colab_type": "code",
        "colab": {}
      },
      "source": [
        "def fibo_1(n):\n",
        "  if n==1 or n==0:\n",
        "    return n\n",
        "  else:\n",
        "    return fibo_1(n-1)+fibo_1(n-2)"
      ],
      "execution_count": 42,
      "outputs": []
    },
    {
      "cell_type": "code",
      "metadata": {
        "id": "yD_uzbHaOfxj",
        "colab_type": "code",
        "colab": {
          "base_uri": "https://localhost:8080/",
          "height": 35
        },
        "outputId": "991888e3-e287-4001-a91e-b73ebcdf7b69"
      },
      "source": [
        "fibo_1(7)"
      ],
      "execution_count": 43,
      "outputs": [
        {
          "output_type": "execute_result",
          "data": {
            "text/plain": [
              "13"
            ]
          },
          "metadata": {
            "tags": []
          },
          "execution_count": 43
        }
      ]
    },
    {
      "cell_type": "markdown",
      "metadata": {
        "id": "ZYM2cZJmVwJx",
        "colab_type": "text"
      },
      "source": [
        "Binary Search"
      ]
    },
    {
      "cell_type": "code",
      "metadata": {
        "id": "50jXHcwWVv7X",
        "colab_type": "code",
        "colab": {}
      },
      "source": [
        "# Binary Search\n",
        "\n",
        "l = [1,4,2,5,756,434,23,5,3,56,7,4,5,43,22,3,5,29,97,23,42,56,8,2,3,5,6,33,658,6,43578]\n",
        "\n",
        "'''\n",
        "Searching an element in list\n",
        "'''"
      ],
      "execution_count": null,
      "outputs": []
    },
    {
      "cell_type": "markdown",
      "metadata": {
        "id": "3pmceuDiXZiy",
        "colab_type": "text"
      },
      "source": [
        "Tractable - PTIME(Polynomial Time Solvable)\n",
        "\n",
        "---\n",
        "Polynomial - expression where each term is n^k where k can be any whole number\n",
        "\n",
        "---\n",
        "\n",
        "Polynomial Time - Runtime of the code or solution should be a polynomial of degree k where k is a constant, and since it is time n cannot be negative\n",
        "\n",
        "---\n",
        "Degree of Polynomial is the highest power of the variable within the expression\n",
        "\n",
        "\n",
        "---\n",
        "eg 0(n^4)\n",
        "\n",
        "n=1 => 1\n",
        "\n",
        "n=2 => 2^4\n",
        "\n",
        "n=3 => 3^4\n",
        "\n",
        "\n",
        "\n",
        "\n",
        "\n"
      ]
    },
    {
      "cell_type": "code",
      "metadata": {
        "id": "jN3iByReWxwZ",
        "colab_type": "code",
        "colab": {}
      },
      "source": [
        "l1 = l.copy().sort()"
      ],
      "execution_count": null,
      "outputs": []
    },
    {
      "cell_type": "code",
      "metadata": {
        "id": "cQy0PZhkVvyU",
        "colab_type": "code",
        "colab": {}
      },
      "source": [
        ""
      ],
      "execution_count": null,
      "outputs": []
    },
    {
      "cell_type": "code",
      "metadata": {
        "id": "eIRwNi0_VvtV",
        "colab_type": "code",
        "colab": {}
      },
      "source": [
        ""
      ],
      "execution_count": null,
      "outputs": []
    },
    {
      "cell_type": "code",
      "metadata": {
        "id": "PBJBwduUVvsG",
        "colab_type": "code",
        "colab": {}
      },
      "source": [
        ""
      ],
      "execution_count": null,
      "outputs": []
    },
    {
      "cell_type": "code",
      "metadata": {
        "id": "OEZERdYBVvmY",
        "colab_type": "code",
        "colab": {}
      },
      "source": [
        ""
      ],
      "execution_count": null,
      "outputs": []
    },
    {
      "cell_type": "code",
      "metadata": {
        "id": "ulR1xJ8yVvg_",
        "colab_type": "code",
        "colab": {}
      },
      "source": [
        ""
      ],
      "execution_count": null,
      "outputs": []
    },
    {
      "cell_type": "code",
      "metadata": {
        "id": "E6I8wHVjOfta",
        "colab_type": "code",
        "colab": {}
      },
      "source": [
        ""
      ],
      "execution_count": null,
      "outputs": []
    },
    {
      "cell_type": "code",
      "metadata": {
        "id": "i-2vbE4i7VTW",
        "colab_type": "code",
        "colab": {
          "base_uri": "https://localhost:8080/",
          "height": 35
        },
        "outputId": "0e077cb7-79f9-45df-857d-a2108b762382"
      },
      "source": [
        "1+2+3+4"
      ],
      "execution_count": null,
      "outputs": [
        {
          "output_type": "execute_result",
          "data": {
            "text/plain": [
              "10"
            ]
          },
          "metadata": {
            "tags": []
          },
          "execution_count": 1
        }
      ]
    },
    {
      "cell_type": "markdown",
      "metadata": {
        "id": "y-xOXhjlDa4Q",
        "colab_type": "text"
      },
      "source": [
        "# Recursion Funtion calling itself\n",
        "\n",
        "---\n",
        "\n",
        "# Memoisation ~ Memorandum(Latin) i.e. to be remembered\n",
        "Storing immediate values, through various ways\n"
      ]
    },
    {
      "cell_type": "code",
      "metadata": {
        "id": "4sBLj3OcB6QQ",
        "colab_type": "code",
        "colab": {}
      },
      "source": [
        ""
      ],
      "execution_count": null,
      "outputs": []
    }
  ]
}